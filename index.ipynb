{
 "cells": [
  {
   "cell_type": "code",
   "execution_count": 1,
   "metadata": {},
   "outputs": [
    {
     "ename": "ModuleNotFoundError",
     "evalue": "No module named 'xgboost'",
     "output_type": "error",
     "traceback": [
      "\u001b[1;31m---------------------------------------------------------------------------\u001b[0m",
      "\u001b[1;31mModuleNotFoundError\u001b[0m                       Traceback (most recent call last)",
      "\u001b[1;32mc:\\Users\\Wommack\\dementia2\\dementia-app2\\index.ipynb Cell 1\u001b[0m in \u001b[0;36m<cell line: 13>\u001b[1;34m()\u001b[0m\n\u001b[0;32m      <a href='vscode-notebook-cell:/c%3A/Users/Wommack/dementia2/dementia-app2/index.ipynb#W0sZmlsZQ%3D%3D?line=8'>9</a>\u001b[0m warnings\u001b[39m.\u001b[39mfilterwarnings(\u001b[39m\"\u001b[39m\u001b[39mignore\u001b[39m\u001b[39m\"\u001b[39m)\n\u001b[0;32m     <a href='vscode-notebook-cell:/c%3A/Users/Wommack/dementia2/dementia-app2/index.ipynb#W0sZmlsZQ%3D%3D?line=12'>13</a>\u001b[0m \u001b[39mwith\u001b[39;00m \u001b[39mopen\u001b[39m(\u001b[39m'\u001b[39m\u001b[39mmodel_xgb.pkl\u001b[39m\u001b[39m'\u001b[39m, \u001b[39m'\u001b[39m\u001b[39mrb\u001b[39m\u001b[39m'\u001b[39m) \u001b[39mas\u001b[39;00m f:\n\u001b[1;32m---> <a href='vscode-notebook-cell:/c%3A/Users/Wommack/dementia2/dementia-app2/index.ipynb#W0sZmlsZQ%3D%3D?line=13'>14</a>\u001b[0m     model\u001b[39m=\u001b[39m pickle\u001b[39m.\u001b[39;49mload(f)\n\u001b[0;32m     <a href='vscode-notebook-cell:/c%3A/Users/Wommack/dementia2/dementia-app2/index.ipynb#W0sZmlsZQ%3D%3D?line=15'>16</a>\u001b[0m \u001b[39mwith\u001b[39;00m \u001b[39mopen\u001b[39m(\u001b[39m'\u001b[39m\u001b[39mcolumns.pkl\u001b[39m\u001b[39m'\u001b[39m, \u001b[39m'\u001b[39m\u001b[39mrb\u001b[39m\u001b[39m'\u001b[39m) \u001b[39mas\u001b[39;00m f:\n\u001b[0;32m     <a href='vscode-notebook-cell:/c%3A/Users/Wommack/dementia2/dementia-app2/index.ipynb#W0sZmlsZQ%3D%3D?line=16'>17</a>\u001b[0m     model_columns\u001b[39m=\u001b[39m pickle\u001b[39m.\u001b[39mload(f)\n",
      "\u001b[1;31mModuleNotFoundError\u001b[0m: No module named 'xgboost'"
     ]
    }
   ],
   "source": [
    "from pywebio.input import *\n",
    "from pywebio.output import *\n",
    "from pywebio import start_server\n",
    "from pywebio.exceptions import SessionClosedException\n",
    "import pandas as pd\n",
    "import pickle\n",
    "import warnings\n",
    "import argparse\n",
    "warnings.filterwarnings(\"ignore\")\n",
    "\n",
    "\n",
    "\n",
    "with open('model_xgb.pkl', 'rb') as f:\n",
    "    model= pickle.load(f)\n",
    "\n",
    "with open('columns.pkl', 'rb') as f:\n",
    "    model_columns= pickle.load(f)\n",
    "    \n",
    "def prediction(prediction_df):\n",
    "    model = pickle.load(open('model_xgb.pkl', 'rb'))\n",
    "    query= pd.DataFrame(prediction_df, index= [0])\n",
    "    result=list(model.predict(query))\n",
    "    final_result= round(result[0],3)\n",
    "    \n",
    "    return final_result\n",
    "\n",
    "def main():\n",
    "    put_markdown(\n",
    "    '''\n",
    "    #Dementia Prediction Web App\n",
    "    '''\n",
    "    , lstrip=True\n",
    "    )\n",
    "    \n",
    "    model_inputs= input_group(\n",
    "    \"Enter the following information\",\n",
    "    [\n",
    "        select(\"Visit\", name='visit', options= [('One', 1), ('Two', 2), ('Three', 3), ('Four', 4), ('Five', 5)]),\n",
    "        input(\"MR Delay\", name= 'mr_delay', type= FLOAT),\n",
    "        radio(\"What's your gender?\", name='gender', options= [('Male', 1), ('Female', 0)]),\n",
    "        input(\"Your Age\", name= 'age', type= FLOAT),\n",
    "        input(\"EDUC\", name= 'educ', type= FLOAT),\n",
    "        select(\"SES\", name='ses', options= [('One', 1), ('Two', 2), ('Three', 3), ('Four', 4)]),\n",
    "        input(\"MMSE\", name= 'mmse', type= FLOAT),\n",
    "        input(\"eTIV\", name= 'etiv', type= FLOAT),\n",
    "        input(\"nWBV\", name= 'nwbv', type= FLOAT),\n",
    "        input(\"ASF\", name= 'asf', type= FLOAT),\n",
    "        select(\"CDR\", name='cdr', options= [('None', 0), ('Half', 0.5), ('One', 1), ('Two', 2)]),\n",
    "    ])\n",
    "    \n",
    "    \n",
    "    prediction_df= pd.DataFrame(data= [[model_inputs[i] for i in ['visit', 'mr_delay', 'gender', 'age', 'educ','ses', 'mmse', 'cdr', 'etiv','nwbv','asf']]],\n",
    "                               columns= ['Visit', 'MR Delay', 'M/F', 'Age', 'EDUC', 'SES', 'MMSE', 'CDR', 'eTIV', 'nWBV','ASF'])\n",
    "    \n",
    "    DementiaCategory= prediction(prediction_df)\n",
    "    #prediction_text=''\n",
    "    if DementiaCategory<=0:\n",
    "        put_markdown(\"You are converted\")\n",
    "    \n",
    "    elif DementiaCategory<=1:\n",
    "        put_markdown(\"You are demented\")\n",
    "    \n",
    "    else:\n",
    "        put_markdown(\"You are non-demented\")\n",
    "    \n",
    "    \n",
    "    \n",
    "    \n",
    "if __name__== '__main__':\n",
    "    try:\n",
    "        main()\n",
    "    except SessionClosedException:\n",
    "        print(\"The session was closed unexpectedly\")\n",
    "        \n",
    "        \n",
    "        #parser= argparse.ArgumentParser()\n",
    "        #parser.add_argument(\"-p\", \"--port\", type= int, default= 8080)\n",
    "        #args= parser.parse_args()\n",
    "        \n",
    "        \n",
    "        #start_server(main, port= args.port)\n",
    "        "
   ]
  },
  {
   "cell_type": "code",
   "execution_count": null,
   "metadata": {},
   "outputs": [],
   "source": []
  }
 ],
 "metadata": {
  "kernelspec": {
   "display_name": "Python 3.10.6 64-bit",
   "language": "python",
   "name": "python3"
  },
  "language_info": {
   "codemirror_mode": {
    "name": "ipython",
    "version": 3
   },
   "file_extension": ".py",
   "mimetype": "text/x-python",
   "name": "python",
   "nbconvert_exporter": "python",
   "pygments_lexer": "ipython3",
   "version": "3.10.6"
  },
  "vscode": {
   "interpreter": {
    "hash": "369f2c481f4da34e4445cda3fffd2e751bd1c4d706f27375911949ba6bb62e1c"
   }
  }
 },
 "nbformat": 4,
 "nbformat_minor": 4
}
