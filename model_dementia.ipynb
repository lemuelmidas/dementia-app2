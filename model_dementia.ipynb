{
 "cells": [
  {
   "cell_type": "code",
   "execution_count": 3,
   "metadata": {},
   "outputs": [
    {
     "ename": "ModuleNotFoundError",
     "evalue": "No module named 'pandas'",
     "output_type": "error",
     "traceback": [
      "\u001b[1;31m---------------------------------------------------------------------------\u001b[0m",
      "\u001b[1;31mModuleNotFoundError\u001b[0m                       Traceback (most recent call last)",
      "\u001b[1;32m<ipython-input-3-7b69af8e12fd>\u001b[0m in \u001b[0;36m<module>\u001b[1;34m\u001b[0m\n\u001b[1;32m----> 1\u001b[1;33m \u001b[1;32mimport\u001b[0m \u001b[0mpandas\u001b[0m \u001b[1;32mas\u001b[0m \u001b[0mpd\u001b[0m\u001b[1;33m\u001b[0m\u001b[1;33m\u001b[0m\u001b[0m\n\u001b[0m\u001b[0;32m      2\u001b[0m \u001b[1;32mimport\u001b[0m \u001b[0mnumpy\u001b[0m \u001b[1;32mas\u001b[0m \u001b[0mnp\u001b[0m\u001b[1;33m\u001b[0m\u001b[1;33m\u001b[0m\u001b[0m\n\u001b[0;32m      3\u001b[0m \u001b[1;32mimport\u001b[0m \u001b[0mmatplotlib\u001b[0m\u001b[1;33m.\u001b[0m\u001b[0mpyplot\u001b[0m \u001b[1;32mas\u001b[0m \u001b[0mplt\u001b[0m\u001b[1;33m\u001b[0m\u001b[1;33m\u001b[0m\u001b[0m\n\u001b[0;32m      4\u001b[0m \u001b[1;32mimport\u001b[0m \u001b[0mseaborn\u001b[0m \u001b[1;32mas\u001b[0m \u001b[0msns\u001b[0m\u001b[1;33m\u001b[0m\u001b[1;33m\u001b[0m\u001b[0m\n",
      "\u001b[1;31mModuleNotFoundError\u001b[0m: No module named 'pandas'"
     ]
    }
   ],
   "source": [
    "import pandas as pd\n",
    "import numpy as np\n",
    "import matplotlib.pyplot as plt\n",
    "import seaborn as sns"
   ]
  },
  {
   "cell_type": "code",
   "execution_count": null,
   "metadata": {},
   "outputs": [],
   "source": [
    "df= pd.read_csv(\"C:/Users/Wommack/Desktop/ML/dementia_dataset.csv\")\n",
    "df.head()"
   ]
  },
  {
   "cell_type": "markdown",
   "metadata": {},
   "source": [
    "DATA CLEANING AND EXPLORATORY DATA ANALYSIS"
   ]
  },
  {
   "cell_type": "code",
   "execution_count": null,
   "metadata": {},
   "outputs": [],
   "source": [
    "#df.columns"
   ]
  },
  {
   "cell_type": "code",
   "execution_count": null,
   "metadata": {},
   "outputs": [],
   "source": [
    "#df.info()\n",
    "#df.describe()\n",
    "#df.corr()\n",
    "#sns.heatmap(df.corr(), annot= True, cmap= 'Reds')\n",
    "#df['Subject ID'].unique()\n",
    "# Subject_ID is dropped because it is unifor across all instances.\n",
    "df=df.drop('Subject ID', axis= 1)\n",
    "#df.head()\n",
    "# MRI_ID is dropped because it is unifor across all instances.\n",
    "#df['MRI ID'].unique()\n",
    "df=df.drop('MRI ID', axis= 1)\n",
    "#df.head()\n",
    "#df['Group'].unique()\n",
    "#Label Encoding of 'Group' Feature\n",
    "\n",
    "from sklearn.preprocessing import LabelEncoder\n",
    "le= LabelEncoder()\n",
    "df['Group']= le.fit_transform(df['Group'])\n",
    "#df['Group'].unique()\n",
    "#df.head()\n",
    "#df['Visit'].unique()\n",
    "#df['M/F'].unique()\n",
    "#Binary Encoding of df['M/F']\n",
    "df['M/F']= df['M/F'].apply(lambda x: 1 if x == 'M' else (0 if x == 'F' else None))\n",
    "#df['M/F'].unique()\n",
    "#df['Hand'].unique()\n",
    "#the Hand column is dropped because its instances are the same for all rows\n",
    "df= df.drop('Hand',axis=1)\n",
    "#df.head()\n",
    "#df['Age'].unique()\n",
    "#df['EDUC'].unique()\n",
    "#df['SES'].unique()\n",
    "#df['SES'].mode()\n",
    "#Replacing the nan values with the mode=2, since the mean is almost 2\n",
    "df['SES']= df['SES'].replace(np.nan, 2)\n",
    "#df['SES'].unique()\n",
    "#df['SES'].value_counts()\n",
    "#df['MMSE'].unique()\n",
    "#print(df['MMSE'].mode())#,\"\\n\",\n",
    "#print(df['MMSE'].mean())#,\"\\n\",\n",
    "#print(df['MMSE'].value_counts())\n",
    "#print(df['MMSE'].mode())#,\"\\n\",\n",
    "#print(df['MMSE'].mean())#,\"\\n\",\n",
    "#print(df['MMSE'].value_counts())\n",
    "#df['MMSE'].isnull().sum()\n",
    "#Replacing the nan values with the mode=30, since nan values are 2 and mode =30.\n",
    "df['MMSE']= df['MMSE'].replace(np.nan, 30)\n",
    "#df['MMSE'].unique()\n",
    "#df['CDR'].unique()\n",
    "#df['eTIV'].unique()\n",
    "#df['nWBV'].unique()\n",
    "#df['ASF'].unique()\n",
    "#df.head(10)\n",
    "X= df.drop('Group', axis=1)\n",
    "y=df['Group']\n",
    "#print(X.shape, y.shape)\n",
    "#BASE MODEL\n",
    "from sklearn.model_selection import train_test_split\n",
    "X_train, X_test, y_train, y_test= train_test_split(X, y, test_size= 0.3, random_state= 48 )\n",
    "from sklearn.ensemble import ExtraTreesClassifier,RandomForestClassifier,AdaBoostClassifier\n",
    "from sklearn.naive_bayes import GaussianNB\n",
    "from sklearn.linear_model import LinearRegression, Ridge, Lasso, ElasticNet, SGDClassifier\n",
    "from sklearn.model_selection import GridSearchCV, cross_val_score,StratifiedKFold\n",
    "from sklearn.neighbors import KNeighborsClassifier\n",
    "from sklearn.svm import SVC\n",
    "from sklearn import linear_model\n",
    "from sklearn.tree import DecisionTreeClassifier\n",
    "import xgboost as xgb\n",
    "from sklearn import metrics\n",
    "import random as rd\n",
    "\n",
    "def model_evaluation(X,y):\n",
    "    X_train,X_test, y_train, y_test= train_test_split(X, y, test_size= 0.3, random_state= 48 )\n",
    "    models = [(\"Naive Bayes\", GaussianNB()),\n",
    "          (\"KNN\", KNeighborsClassifier()),\n",
    "          (\"DTC\", DecisionTreeClassifier()),\n",
    "          (\"SGD\", SGDClassifier()),\n",
    "          (\"Ada\", AdaBoostClassifier()),\n",
    "          (\"RFC\",RandomForestClassifier()),\n",
    "          (\"Extra:\",ExtraTreesClassifier()),\n",
    "          (\"XGB:\", xgb.XGBClassifier())\n",
    "              \n",
    "              \n",
    "         ]\n",
    "    means = []\n",
    "    stds = []\n",
    "\n",
    "    for name, classifier in models:\n",
    "        scores = []\n",
    "        for _ in range(10):\n",
    "            model = classifier\n",
    "            model.fit(X_train, y_train)\n",
    "            y_pred = model.predict(X_test)\n",
    "            Accuracy=metrics.accuracy_score(y_test,y_pred)\n",
    "\n",
    "            scores.append(Accuracy)\n",
    "\n",
    "        means.append(np.mean(scores))\n",
    "        stds.append(np.std(scores))\n",
    "        \n",
    "    Total = list(zip(means,stds))\n",
    "    hsh = {}\n",
    "    for j in range(len(models)):\n",
    "        hsh[models[j][0]] = list(Total[j])\n",
    "        \n",
    "        \n",
    "    data = pd.DataFrame(hsh)\n",
    "    db1=data.transpose()\n",
    "    db1.columns=['mean','std']\n",
    "    \n",
    "    return db1\n",
    "a=model_evaluation(df.drop('Group', axis=1),df['Group'])\n",
    "print(a)"
   ]
  },
  {
   "cell_type": "code",
   "execution_count": null,
   "metadata": {},
   "outputs": [],
   "source": [
    "model_xgb= xgb.XGBClassifier()\n",
    "model_xgb.fit(X_train, y_train)\n",
    "pred= model_xgb.predict(X_test)\n",
    "\n",
    "import pickle\n",
    "#filename='model_xgb.pkl'\n",
    "#pickle.dump(model_xgb, open(filename, 'wb'))"
   ]
  },
  {
   "cell_type": "code",
   "execution_count": null,
   "metadata": {},
   "outputs": [],
   "source": [
    "#model_columns=list(X.columns)\n",
    "#with open('columns.pkl', 'wb') as file:\n",
    "#    pickle.dump(model_columns, file)"
   ]
  }
 ],
 "metadata": {
  "interpreter": {
   "hash": "7eedaa60a51de928d813b80a5e78203a6fe4ab6b48c93659eab122915b79350e"
  },
  "kernelspec": {
   "display_name": "Python 3.7.3 64-bit",
   "language": "python",
   "name": "python3"
  },
  "language_info": {
   "codemirror_mode": {
    "name": "ipython",
    "version": 3
   },
   "file_extension": ".py",
   "mimetype": "text/x-python",
   "name": "python",
   "nbconvert_exporter": "python",
   "pygments_lexer": "ipython3",
   "version": "3.7.3"
  }
 },
 "nbformat": 4,
 "nbformat_minor": 4
}
